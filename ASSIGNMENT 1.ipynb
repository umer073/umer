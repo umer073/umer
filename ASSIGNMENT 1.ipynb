{
 "cells": [
  {
   "cell_type": "code",
   "execution_count": 1,
   "metadata": {},
   "outputs": [
    {
     "name": "stdout",
     "output_type": "stream",
     "text": [
      "Umer\n"
     ]
    }
   ],
   "source": [
    "name= \"Umer\"\n",
    "print(name.capitalize())"
   ]
  },
  {
   "cell_type": "code",
   "execution_count": 2,
   "metadata": {},
   "outputs": [
    {
     "name": "stdout",
     "output_type": "stream",
     "text": [
      "umer\n"
     ]
    }
   ],
   "source": [
    "name=\"Umer\"\n",
    "print(name.casefold())"
   ]
  },
  {
   "cell_type": "code",
   "execution_count": 3,
   "metadata": {},
   "outputs": [
    {
     "name": "stdout",
     "output_type": "stream",
     "text": [
      "                    I am Pakistani                   \n"
     ]
    }
   ],
   "source": [
    "name=\"I am Pakistani\"\n",
    "h=name.center(53)\n",
    "\n",
    "print(h)"
   ]
  },
  {
   "cell_type": "code",
   "execution_count": 4,
   "metadata": {},
   "outputs": [
    {
     "name": "stdout",
     "output_type": "stream",
     "text": [
      "1\n"
     ]
    }
   ],
   "source": [
    "\n",
    "h=\"Umer\"\n",
    "print(h.count(\"Umer\"))"
   ]
  },
  {
   "cell_type": "code",
   "execution_count": 5,
   "metadata": {},
   "outputs": [
    {
     "name": "stdout",
     "output_type": "stream",
     "text": [
      "False\n",
      "True\n"
     ]
    }
   ],
   "source": [
    "h=\"I am Pakistani\"\n",
    "p=h.endswith('Pakistani.')\n",
    "print(p)\n",
    "p=h.endswith(\"Pakistani\")\n",
    "print(p)"
   ]
  },
  {
   "cell_type": "code",
   "execution_count": 6,
   "metadata": {},
   "outputs": [
    {
     "name": "stdout",
     "output_type": "stream",
     "text": [
      "I               am              Pakistani\n"
     ]
    }
   ],
   "source": [
    "h=\"I\\tam\\tPakistani\"\n",
    "print(h.expandtabs(16))"
   ]
  },
  {
   "cell_type": "code",
   "execution_count": 7,
   "metadata": {},
   "outputs": [
    {
     "name": "stdout",
     "output_type": "stream",
     "text": [
      "It's index no is: 2\n"
     ]
    }
   ],
   "source": [
    "h=\"I am Pakistani\"\n",
    "p=h.find(\"am\")\n",
    "print(\"It's index no is:\", p)"
   ]
  },
  {
   "cell_type": "code",
   "execution_count": 8,
   "metadata": {},
   "outputs": [
    {
     "name": "stdout",
     "output_type": "stream",
     "text": [
      "I am Pakistani\n"
     ]
    }
   ],
   "source": [
    "h=\"{} am {}\"\n",
    "\n",
    "print (h.format(\"I\",\"Pakistani\"))"
   ]
  },
  {
   "cell_type": "code",
   "execution_count": 9,
   "metadata": {},
   "outputs": [
    {
     "name": "stdout",
     "output_type": "stream",
     "text": [
      "1\n"
     ]
    }
   ],
   "source": [
    "h = ['I','am','Pakistani']\n",
    "print(h.index('am'))"
   ]
  },
  {
   "cell_type": "code",
   "execution_count": 10,
   "metadata": {},
   "outputs": [
    {
     "name": "stdout",
     "output_type": "stream",
     "text": [
      "True\n",
      "False\n"
     ]
    }
   ],
   "source": [
    "h=\"5399\"\n",
    "print(h.isdecimal())\n",
    "p=\"blah\"\n",
    "print(p.isdecimal())"
   ]
  },
  {
   "cell_type": "code",
   "execution_count": 11,
   "metadata": {},
   "outputs": [
    {
     "name": "stdout",
     "output_type": "stream",
     "text": [
      "False\n",
      "False\n"
     ]
    }
   ],
   "source": [
    "\n",
    "h=\"Umer\"\n",
    "print(h.isupper())\n",
    "p=\"blah\"\n",
    "print(p.isupper())"
   ]
  },
  {
   "cell_type": "code",
   "execution_count": 12,
   "metadata": {},
   "outputs": [
    {
     "name": "stdout",
     "output_type": "stream",
     "text": [
      "False\n",
      "True\n"
     ]
    }
   ],
   "source": [
    "h=\"I am Pakistani\"\n",
    "print(h.isidentifier())\n",
    "p=\"IamPakistani\"\n",
    "print(p.isidentifier())"
   ]
  },
  {
   "cell_type": "code",
   "execution_count": 13,
   "metadata": {},
   "outputs": [
    {
     "name": "stdout",
     "output_type": "stream",
     "text": [
      "True\n"
     ]
    }
   ],
   "source": [
    "h=\"umer\"\n",
    "print(h.islower())"
   ]
  },
  {
   "cell_type": "code",
   "execution_count": 14,
   "metadata": {},
   "outputs": [
    {
     "name": "stdout",
     "output_type": "stream",
     "text": [
      "False\n",
      "True\n"
     ]
    }
   ],
   "source": [
    "h=\"I am \\f Pakistani\"\n",
    "print(h.isprintable())\n",
    "p=\"I am Pakistani\"\n",
    "print(p.isprintable())"
   ]
  },
  {
   "cell_type": "code",
   "execution_count": 15,
   "metadata": {},
   "outputs": [
    {
     "name": "stdout",
     "output_type": "stream",
     "text": [
      "u+n\n"
     ]
    }
   ],
   "source": [
    "u=['u','n']\n",
    "n=\"+\"\n",
    "m=n.join(u)\n",
    "print(m)"
   ]
  },
  {
   "cell_type": "code",
   "execution_count": 16,
   "metadata": {},
   "outputs": [
    {
     "name": "stdout",
     "output_type": "stream",
     "text": [
      "I love Pakistan\n"
     ]
    }
   ],
   "source": [
    "h=\"I like Pakistan\"\n",
    "print(h.replace(\"like\",\"love\"))"
   ]
  },
  {
   "cell_type": "code",
   "execution_count": 17,
   "metadata": {},
   "outputs": [
    {
     "name": "stdout",
     "output_type": "stream",
     "text": [
      "I am Pakistani \n"
     ]
    }
   ],
   "source": [
    "h=\"I am Pakistani is\"\n",
    "print(h.strip(\"is\"))"
   ]
  },
  {
   "cell_type": "code",
   "execution_count": 18,
   "metadata": {},
   "outputs": [
    {
     "name": "stdout",
     "output_type": "stream",
     "text": [
      "uMER\n"
     ]
    }
   ],
   "source": [
    "\n",
    "h='Umer'\n",
    "print(h.swapcase())"
   ]
  },
  {
   "cell_type": "code",
   "execution_count": 19,
   "metadata": {},
   "outputs": [
    {
     "name": "stdout",
     "output_type": "stream",
     "text": [
      "['I\\\\ am\\\\ Pakistani']\n"
     ]
    }
   ],
   "source": [
    "h=\"I\\ am\\ Pakistani\"\n",
    "print(h.splitlines(40))"
   ]
  },
  {
   "cell_type": "code",
   "execution_count": 21,
   "metadata": {},
   "outputs": [
    {
     "name": "stdout",
     "output_type": "stream",
     "text": [
      "000000000000000000000000000000000000000I am Pakistani\n",
      "0000000000000000000000I am blah\n"
     ]
    }
   ],
   "source": [
    "h=\"I am Pakistani\"\n",
    "print(h.zfill(53))\n",
    "p=\"I am blah\"\n",
    "print(p.zfill(31))"
   ]
  },
  {
   "cell_type": "code",
   "execution_count": 22,
   "metadata": {},
   "outputs": [
    {
     "name": "stdout",
     "output_type": "stream",
     "text": [
      "UMER\n"
     ]
    }
   ],
   "source": [
    "h=\"Umer\"\n",
    "print(h.upper())"
   ]
  },
  {
   "cell_type": "code",
   "execution_count": 23,
   "metadata": {},
   "outputs": [
    {
     "name": "stdout",
     "output_type": "stream",
     "text": [
      "Umer\n"
     ]
    }
   ],
   "source": [
    "h=\"             Umer\"\n",
    "print(h.lstrip())"
   ]
  },
  {
   "cell_type": "code",
   "execution_count": 24,
   "metadata": {},
   "outputs": [
    {
     "name": "stdout",
     "output_type": "stream",
     "text": [
      "yooo\n"
     ]
    }
   ],
   "source": [
    "h=\"yooo\"\n",
    "print(h.rstrip('i'))"
   ]
  },
  {
   "cell_type": "code",
   "execution_count": 25,
   "metadata": {},
   "outputs": [
    {
     "data": {
      "text/plain": [
       "36"
      ]
     },
     "execution_count": 25,
     "metadata": {},
     "output_type": "execute_result"
    }
   ],
   "source": [
    "h=5\n",
    "h.__add__(31)"
   ]
  },
  {
   "cell_type": "code",
   "execution_count": null,
   "metadata": {},
   "outputs": [],
   "source": []
  }
 ],
 "metadata": {
  "kernelspec": {
   "display_name": "Python 3",
   "language": "python",
   "name": "python3"
  },
  "language_info": {
   "codemirror_mode": {
    "name": "ipython",
    "version": 3
   },
   "file_extension": ".py",
   "mimetype": "text/x-python",
   "name": "python",
   "nbconvert_exporter": "python",
   "pygments_lexer": "ipython3",
   "version": "3.7.3"
  }
 },
 "nbformat": 4,
 "nbformat_minor": 2
}
